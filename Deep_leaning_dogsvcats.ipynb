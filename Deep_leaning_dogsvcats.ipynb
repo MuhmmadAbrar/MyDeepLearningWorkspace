{
  "cells": [
    {
      "cell_type": "markdown",
      "metadata": {
        "id": "view-in-github",
        "colab_type": "text"
      },
      "source": [
        "<a href=\"https://colab.research.google.com/github/MuhmmadAbrar/MyDeepLearningWorkspace/blob/main/Deep_leaning_dogsvcats.ipynb\" target=\"_parent\"><img src=\"https://colab.research.google.com/assets/colab-badge.svg\" alt=\"Open In Colab\"/></a>"
      ]
    },
    {
      "cell_type": "code",
      "execution_count": 2,
      "metadata": {
        "id": "sYEgyT5jovbK"
      },
      "outputs": [],
      "source": [
        "import time\n",
        "import random\n",
        "import pandas as pd\n",
        "import numpy as np\n",
        "import matplotlib.pyplot as py\n",
        "from skimage import io\n",
        "from google.colab.patches import cv2_imshow\n",
        "\n"
      ]
    },
    {
      "cell_type": "markdown",
      "metadata": {
        "id": "Xua7QK0tPIqh"
      },
      "source": [
        "Loading data "
      ]
    },
    {
      "cell_type": "code",
      "execution_count": 3,
      "metadata": {
        "colab": {
          "base_uri": "https://localhost:8080/"
        },
        "id": "xK41wTNM26QL",
        "outputId": "27864a04-b02b-4a3b-cd11-06c98ef91727"
      },
      "outputs": [
        {
          "output_type": "stream",
          "name": "stdout",
          "text": [
            "(12288, 209)\n",
            "(1, 209)\n",
            "(12288, 50)\n",
            "(1, 50)\n"
          ]
        }
      ],
      "source": [
        "train_catx=np.loadtxt(\"https://raw.githubusercontent.com/Coding-Lane/Deep-Neural-Network-from-scratch/main/dataset/cat_train_x.csv\",delimiter=',')/255.0\n",
        "train_caty=np.loadtxt(\"https://raw.githubusercontent.com/Coding-Lane/Deep-Neural-Network-from-scratch/main/dataset/cat_train_y.csv\",delimiter=',').reshape(1,train_catx.shape[1])\n",
        "\n",
        "test_catx=np.loadtxt(\"https://raw.githubusercontent.com/Coding-Lane/Deep-Neural-Network-from-scratch/main/dataset/cat_test_x.csv\",delimiter=',')/255.0\n",
        "test_caty=np.loadtxt(\"https://raw.githubusercontent.com/Coding-Lane/Deep-Neural-Network-from-scratch/main/dataset/cat_test_y.csv\",delimiter=',').reshape(1,test_catx.shape[1])\n",
        "\n",
        "print(train_catx.shape)\n",
        "print(train_caty.shape)\n",
        "print(test_catx.shape)\n",
        "print(test_caty.shape)"
      ]
    },
    {
      "cell_type": "markdown",
      "source": [
        "We need to reshape these images to ensure that they are of appropriate size"
      ],
      "metadata": {
        "id": "KCywlBjwQPIo"
      }
    },
    {
      "cell_type": "code",
      "source": [
        "train_catx=train_catx.reshape(len(train_catx),1)"
      ],
      "metadata": {
        "id": "YgnpgX5PQXgW",
        "colab": {
          "base_uri": "https://localhost:8080/",
          "height": 165
        },
        "outputId": "d9329147-72fe-46e5-c979-22c9574b86c9"
      },
      "execution_count": 4,
      "outputs": [
        {
          "output_type": "error",
          "ename": "ValueError",
          "evalue": "ignored",
          "traceback": [
            "\u001b[0;31m---------------------------------------------------------------------------\u001b[0m",
            "\u001b[0;31mValueError\u001b[0m                                Traceback (most recent call last)",
            "\u001b[0;32m<ipython-input-4-257903a2a1ed>\u001b[0m in \u001b[0;36m<module>\u001b[0;34m\u001b[0m\n\u001b[0;32m----> 1\u001b[0;31m \u001b[0mtrain_catx\u001b[0m\u001b[0;34m=\u001b[0m\u001b[0mtrain_catx\u001b[0m\u001b[0;34m.\u001b[0m\u001b[0mreshape\u001b[0m\u001b[0;34m(\u001b[0m\u001b[0mlen\u001b[0m\u001b[0;34m(\u001b[0m\u001b[0mtrain_catx\u001b[0m\u001b[0;34m)\u001b[0m\u001b[0;34m,\u001b[0m\u001b[0;36m1\u001b[0m\u001b[0;34m)\u001b[0m\u001b[0;34m\u001b[0m\u001b[0;34m\u001b[0m\u001b[0m\n\u001b[0m",
            "\u001b[0;31mValueError\u001b[0m: cannot reshape array of size 2568192 into shape (12288,1)"
          ]
        }
      ]
    },
    {
      "cell_type": "code",
      "execution_count": null,
      "metadata": {
        "colab": {
          "base_uri": "https://localhost:8080/",
          "height": 268
        },
        "id": "-ck_Njfv_3xG",
        "outputId": "85a97464-dd41-445d-d545-2e3ffd59eea2"
      },
      "outputs": [
        {
          "output_type": "display_data",
          "data": {
            "text/plain": [
              "<Figure size 432x288 with 1 Axes>"
            ],
            "image/png": "[encoded data removed]"
          },
          "metadata": {
            "needs_background": "light"
          }
        }
      ],
      "source": [
        "index=random.randrange(0,train_catx.shape[1])\n",
        "py.imshow(train_catx[:,index].reshape(64,64,3))\n",
        "py.show()\n"
      ]
    },
    {
      "cell_type": "code",
      "source": [
        "#!pip install -q \n",
        "from tensorflow.python import keras\n",
        "from keras.models import Sequential\n",
        "from keras.layers import Dense,Conv2D,MaxPooling2D,Flatten\n",
        "\n",
        "\n"
      ],
      "metadata": {
        "id": "glsUZsCGCgdF"
      },
      "execution_count": null,
      "outputs": []
    },
    {
      "cell_type": "code",
      "source": [
        "model=Sequential()\n",
        "model.add(Dense(12,input_shape=(64,64,3)))\n",
        "model.add(Dense(12,activation='relu'))\n",
        "model.add(Dense(12,activation=\"relu\"))\n",
        "model.add(Dense(1,activation=\"sigmoid\"))\n",
        "\n",
        "model.summary()\n"
      ],
      "metadata": {
        "id": "lbe9xl8cDIF_",
        "colab": {
          "base_uri": "https://localhost:8080/"
        },
        "outputId": "52dd15f8-154e-450e-99d9-5bfb2b52da0f"
      },
      "execution_count": null,
      "outputs": [
        {
          "output_type": "stream",
          "name": "stdout",
          "text": [
            "Model: \"sequential_6\"\n",
            "_________________________________________________________________\n",
            " Layer (type)                Output Shape              Param #   \n",
            "=================================================================\n",
            " dense_6 (Dense)             (None, 64, 64, 12)        48        \n",
            "                                                                 \n",
            " dense_7 (Dense)             (None, 64, 64, 12)        156       \n",
            "                                                                 \n",
            " dense_8 (Dense)             (None, 64, 64, 12)        156       \n",
            "                                                                 \n",
            " dense_9 (Dense)             (None, 64, 64, 1)         13        \n",
            "                                                                 \n",
            "=================================================================\n",
            "Total params: 373\n",
            "Trainable params: 373\n",
            "Non-trainable params: 0\n",
            "_________________________________________________________________\n"
          ]
        }
      ]
    },
    {
      "cell_type": "markdown",
      "metadata": {
        "id": "jIjEx5hwOWOF"
      },
      "source": [
        "Activation functions"
      ]
    },
    {
      "cell_type": "code",
      "source": [
        "#model=keras.Sequential([Dense(2, activation=\"relu\"),Dense(3, activation=\"relu\"),Dense(1,activation=\"sigmoid\"),])\n",
        "#model.layers\n",
        "model.compile(loss='binary_crossentropy',optimizer='adam',metrics=['accuracy'])\n",
        "model.summary()\n",
        "print(len(model.layers))\n"
      ],
      "metadata": {
        "colab": {
          "base_uri": "https://localhost:8080/"
        },
        "id": "XzKxAWgLIy7W",
        "outputId": "2dccd2d3-24d0-45f2-b5c7-3b426c680d28"
      },
      "execution_count": null,
      "outputs": [
        {
          "output_type": "stream",
          "name": "stdout",
          "text": [
            "Model: \"sequential_6\"\n",
            "_________________________________________________________________\n",
            " Layer (type)                Output Shape              Param #   \n",
            "=================================================================\n",
            " dense_6 (Dense)             (None, 64, 64, 12)        48        \n",
            "                                                                 \n",
            " dense_7 (Dense)             (None, 64, 64, 12)        156       \n",
            "                                                                 \n",
            " dense_8 (Dense)             (None, 64, 64, 12)        156       \n",
            "                                                                 \n",
            " dense_9 (Dense)             (None, 64, 64, 1)         13        \n",
            "                                                                 \n",
            "=================================================================\n",
            "Total params: 373\n",
            "Trainable params: 373\n",
            "Non-trainable params: 0\n",
            "_________________________________________________________________\n",
            "4\n"
          ]
        }
      ]
    },
    {
      "cell_type": "code",
      "execution_count": null,
      "metadata": {
        "id": "mJ48HdUpOYcN"
      },
      "outputs": [],
      "source": [
        "def sigmoid(z):\n",
        "  return 1/(1+np.exp(-z))\n",
        "def softmax(z):\n",
        "  return np.exp(z)/(np.sum(np.expz,0))\n",
        "def relu(z):\n",
        "  return np.maximum(0,z)\n",
        "def tanh(z):\n",
        "  return np.tanh(z)\n",
        "def deri_relu(z):\n",
        "  return np.array(z>0,dtype='float')\n",
        "def deri_tanh(x):\n",
        "  return (1-np.power(x,2))\n"
      ]
    },
    {
      "cell_type": "markdown",
      "source": [
        "Cross Entropy loss Function: Summarises the average difference between actual and predicted probability distributions"
      ],
      "metadata": {
        "id": "bz3RxBGUnDqp"
      }
    },
    {
      "cell_type": "markdown",
      "source": [
        "Training Begins here-Fitting the model"
      ],
      "metadata": {
        "id": "_v7Q0h5GN5kT"
      }
    },
    {
      "cell_type": "code",
      "source": [
        "model.fit(train_catx,test_catx,epochs=150,batch_size=10)"
      ],
      "metadata": {
        "colab": {
          "base_uri": "https://localhost:8080/",
          "height": 165
        },
        "id": "lL_KsI6HmYTx",
        "outputId": "32397834-0a3c-46cc-aa9c-9770fddd6438"
      },
      "execution_count": 1,
      "outputs": [
        {
          "output_type": "error",
          "ename": "NameError",
          "evalue": "ignored",
          "traceback": [
            "\u001b[0;31m---------------------------------------------------------------------------\u001b[0m",
            "\u001b[0;31mNameError\u001b[0m                                 Traceback (most recent call last)",
            "\u001b[0;32m<ipython-input-1-7a27897dbe35>\u001b[0m in \u001b[0;36m<module>\u001b[0;34m\u001b[0m\n\u001b[0;32m----> 1\u001b[0;31m \u001b[0mmodel\u001b[0m\u001b[0;34m.\u001b[0m\u001b[0mfit\u001b[0m\u001b[0;34m(\u001b[0m\u001b[0mtrain_catx\u001b[0m\u001b[0;34m,\u001b[0m\u001b[0mtest_catx\u001b[0m\u001b[0;34m,\u001b[0m\u001b[0mepochs\u001b[0m\u001b[0;34m=\u001b[0m\u001b[0;36m150\u001b[0m\u001b[0;34m,\u001b[0m\u001b[0mbatch_size\u001b[0m\u001b[0;34m=\u001b[0m\u001b[0;36m10\u001b[0m\u001b[0;34m)\u001b[0m\u001b[0;34m\u001b[0m\u001b[0;34m\u001b[0m\u001b[0m\n\u001b[0m",
            "\u001b[0;31mNameError\u001b[0m: name 'model' is not defined"
          ]
        }
      ]
    },
    {
      "cell_type": "code",
      "source": [],
      "metadata": {
        "id": "uqvCgVg4MUxT"
      },
      "execution_count": null,
      "outputs": []
    }
  ],
  "metadata": {
    "colab": {
      "provenance": [],
      "include_colab_link": true
    },
    "kernelspec": {
      "display_name": "Python 3",
      "name": "python3"
    },
    "language_info": {
      "name": "python"
    }
  },
  "nbformat": 4,
  "nbformat_minor": 0
}